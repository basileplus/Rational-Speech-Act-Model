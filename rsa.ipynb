{
 "cells": [
  {
   "cell_type": "code",
   "execution_count": 148,
   "metadata": {},
   "outputs": [],
   "source": [
    "import torch"
   ]
  },
  {
   "cell_type": "markdown",
   "metadata": {},
   "source": [
    "# Dataset"
   ]
  },
  {
   "cell_type": "markdown",
   "metadata": {},
   "source": [
    "Crate the dataset : a random truth matrix $T : O\\times A \\to \\{0,1\\}$ \n",
    "- $O$ : number of objects\n",
    "- $A$ : number of attributes for each object\n",
    "This matrix represent for each object $o$ and each property $a$ if the object has the property or not."
   ]
  },
  {
   "cell_type": "code",
   "execution_count": 149,
   "metadata": {},
   "outputs": [],
   "source": [
    "# Size of object and properties set\n",
    "O = 2\n",
    "A = 2\n",
    "shape = (O, A)\n",
    "\n",
    "# Define the probability of obtaining 1s\n",
    "prob = 0.5 \n",
    "\n",
    "# Create a tensor filled with the probability value\n",
    "prob_tensor = torch.full(shape, prob)\n",
    "\n",
    "# Generate the tensor using the Bernoulli distribution\n",
    "T = torch.bernoulli(prob_tensor)"
   ]
  },
  {
   "cell_type": "markdown",
   "metadata": {},
   "source": [
    "# Simple RSA model"
   ]
  },
  {
   "cell_type": "markdown",
   "metadata": {},
   "source": [
    "## Definition of the model"
   ]
  },
  {
   "cell_type": "markdown",
   "metadata": {},
   "source": [
    "We begin by defining the parameters of our model :\n",
    "- $\\alpha$ : how much the speaker will be pragmatic\n",
    "- $P$ : the prior probability of each object. If we already have information about the probability that the speaker will chose the object $o$ to describe.\n",
    "- $C$ : the cost of each attribute. Typically the number of bits needed to transmit the attribute. "
   ]
  },
  {
   "cell_type": "code",
   "execution_count": 150,
   "metadata": {},
   "outputs": [],
   "source": [
    "alpha = torch.tensor(1) # By default, we set alpha to 1"
   ]
  },
  {
   "cell_type": "markdown",
   "metadata": {},
   "source": [
    "We then define the literal listener. For now there is no cost in the model."
   ]
  },
  {
   "cell_type": "code",
   "execution_count": 151,
   "metadata": {},
   "outputs": [],
   "source": [
    "def literal_listener(T):\n",
    "    L = torch.zeros(shape)\n",
    "    sum = torch.sum(T)\n",
    "    # We transpose the truth matrice : the listener is P(o|a) and not P(a|o)\n",
    "    L = T.t()/sum\n",
    "    # Sum along the rows to get the sum for each row\n",
    "    row_sums = torch.sum(L, dim=1, keepdim=True)\n",
    "    # Normalize each row by dividing by its sum\n",
    "    L_normalized = L / row_sums\n",
    "    return L_normalized "
   ]
  },
  {
   "cell_type": "markdown",
   "metadata": {},
   "source": [
    "Then the pragmatic speaker. The speaker will choose the object that maximizes the probability that the listener will understand the object."
   ]
  },
  {
   "cell_type": "code",
   "execution_count": 152,
   "metadata": {},
   "outputs": [],
   "source": [
    "def safelog(tensor, epsilon=1e-10):\n",
    "    \"\"\"\n",
    "    Safely compute the logarithm of the tensor, replacing zeros with epsilon\n",
    "    to avoid log(0) which would result in -inf.\n",
    "    \"\"\"\n",
    "    # Ensure tensor is of float type to allow for log operations\n",
    "    tensor = tensor.float()\n",
    "    \n",
    "    # Replace zeros with a small epsilon value to avoid log(0)\n",
    "    safe_tensor = torch.where(tensor == 0, torch.tensor(epsilon, dtype=tensor.dtype), tensor)\n",
    "    \n",
    "    # Compute the logarithm\n",
    "    log_tensor = torch.log(safe_tensor)\n",
    "    \n",
    "    return log_tensor"
   ]
  },
  {
   "cell_type": "code",
   "execution_count": 153,
   "metadata": {},
   "outputs": [],
   "source": [
    "def pragmatic_speaker(T):\n",
    "    S = torch.zeros(shape)\n",
    "    L = literal_listener(T).t()\n",
    "    sum = torch.sum(L)\n",
    "    S = torch.exp(alpha*safelog(L))/sum\n",
    "    # Sum along the rows to get the sum for each row\n",
    "    row_sums = torch.sum(S, dim=1, keepdim=True)\n",
    "    # Normalize each row by dividing by its sum\n",
    "    S_normalized = S / row_sums\n",
    "    return S_normalized"
   ]
  },
  {
   "cell_type": "markdown",
   "metadata": {},
   "source": [
    "Finally the pragmatic listener."
   ]
  },
  {
   "cell_type": "code",
   "execution_count": 154,
   "metadata": {},
   "outputs": [],
   "source": [
    "def pragmatic_listener(T):\n",
    "    L = pragmatic_speaker(T).t()\n",
    "    row_sums = torch.sum(L, dim=1, keepdim=True)\n",
    "    L_normalized = L / row_sums\n",
    "    return L_normalized"
   ]
  },
  {
   "cell_type": "markdown",
   "metadata": {},
   "source": [
    "The obtained matrice $L$ is the probability that the speaker is takling about the object $o$ given the attribute $a$.\n",
    "\n",
    "$o$ is the row and $a$ is the column."
   ]
  },
  {
   "cell_type": "markdown",
   "metadata": {},
   "source": [
    "## use example"
   ]
  },
  {
   "cell_type": "markdown",
   "metadata": {},
   "source": [
    "We are going to take a simple truth matrix $T$ :"
   ]
  },
  {
   "cell_type": "code",
   "execution_count": 155,
   "metadata": {},
   "outputs": [],
   "source": [
    "T = torch.Tensor([[0,1],[1,1]])"
   ]
  },
  {
   "cell_type": "code",
   "execution_count": 156,
   "metadata": {},
   "outputs": [
    {
     "name": "stdout",
     "output_type": "stream",
     "text": [
      "tensor([[0., 1.],\n",
      "        [1., 1.]])\n"
     ]
    }
   ],
   "source": [
    "print(T)"
   ]
  },
  {
   "cell_type": "markdown",
   "metadata": {},
   "source": [
    "As values are chosen randomly it is possible than several objects have the same attributes. They are then not distinguishable. We thus are going to calculate the maximum performance of the model by counting the number of objects that are undistinguishable."
   ]
  },
  {
   "cell_type": "code",
   "execution_count": 157,
   "metadata": {},
   "outputs": [
    {
     "name": "stdout",
     "output_type": "stream",
     "text": [
      "Number of non-unique lines: 0\n",
      "Non-unique lines with their counts:\n"
     ]
    }
   ],
   "source": [
    "from collections import Counter\n",
    "import numpy as np\n",
    "\n",
    "# Convert to NumPy array\n",
    "array = T.numpy()\n",
    "\n",
    "# Convert rows to tuples for counting\n",
    "rows_as_tuples = [tuple(row) for row in array]\n",
    "\n",
    "# Count occurrences of each row\n",
    "row_counts = Counter(rows_as_tuples)\n",
    "\n",
    "# Identify non-unique rows\n",
    "non_unique_rows = {row: count for row, count in row_counts.items() if count > 1}\n",
    "\n",
    "# Results\n",
    "num_non_unique_lines = len(non_unique_rows)\n",
    "non_unique_lines_with_counts = non_unique_rows\n",
    "\n",
    "print(f\"Number of non-unique lines: {num_non_unique_lines}\")\n",
    "print(\"Non-unique lines with their counts:\")\n",
    "for row, count in non_unique_lines_with_counts.items():\n",
    "    print(f\"Row: {row}, Count: {count}\")"
   ]
  },
  {
   "cell_type": "code",
   "execution_count": 158,
   "metadata": {},
   "outputs": [
    {
     "name": "stdout",
     "output_type": "stream",
     "text": [
      "Maximal performance: 1.00 of correct answers\n"
     ]
    }
   ],
   "source": [
    "max_perf = shape[0] - num_non_unique_lines\n",
    "for _,count in non_unique_lines_with_counts.items():\n",
    "    max_perf += 1/count\n",
    "max_perf /= shape[0]\n",
    "print(f\"Maximal performance: {max_perf:.2f} of correct answers\")"
   ]
  },
  {
   "cell_type": "markdown",
   "metadata": {},
   "source": [
    "It is important to remember that this is the *theoretical* maximum performance. As soon as there is twice the same lines i.e two indishtinguishable objects, the model will be forced to randomly chose one object among those described by the attributes. This is the performance obtained when the model is run on an infinite number of guesses."
   ]
  },
  {
   "cell_type": "markdown",
   "metadata": {},
   "source": [
    "Now let's run the model"
   ]
  },
  {
   "cell_type": "code",
   "execution_count": 159,
   "metadata": {},
   "outputs": [
    {
     "data": {
      "text/html": [
       "<div>\n",
       "<style scoped>\n",
       "    .dataframe tbody tr th:only-of-type {\n",
       "        vertical-align: middle;\n",
       "    }\n",
       "\n",
       "    .dataframe tbody tr th {\n",
       "        vertical-align: top;\n",
       "    }\n",
       "\n",
       "    .dataframe thead th {\n",
       "        text-align: right;\n",
       "    }\n",
       "</style>\n",
       "<table border=\"1\" class=\"dataframe\">\n",
       "  <thead>\n",
       "    <tr style=\"text-align: right;\">\n",
       "      <th>T:</th>\n",
       "      <th>p1</th>\n",
       "      <th>p2</th>\n",
       "    </tr>\n",
       "  </thead>\n",
       "  <tbody>\n",
       "    <tr>\n",
       "      <th>o1</th>\n",
       "      <td>0.0</td>\n",
       "      <td>1.0</td>\n",
       "    </tr>\n",
       "    <tr>\n",
       "      <th>o2</th>\n",
       "      <td>1.0</td>\n",
       "      <td>1.0</td>\n",
       "    </tr>\n",
       "  </tbody>\n",
       "</table>\n",
       "</div>"
      ],
      "text/plain": [
       "T:  p1  p2\n",
       "o1 0.0 1.0\n",
       "o2 1.0 1.0"
      ]
     },
     "metadata": {},
     "output_type": "display_data"
    },
    {
     "data": {
      "text/html": [
       "<div>\n",
       "<style scoped>\n",
       "    .dataframe tbody tr th:only-of-type {\n",
       "        vertical-align: middle;\n",
       "    }\n",
       "\n",
       "    .dataframe tbody tr th {\n",
       "        vertical-align: top;\n",
       "    }\n",
       "\n",
       "    .dataframe thead th {\n",
       "        text-align: right;\n",
       "    }\n",
       "</style>\n",
       "<table border=\"1\" class=\"dataframe\">\n",
       "  <thead>\n",
       "    <tr style=\"text-align: right;\">\n",
       "      <th>Literal listener:</th>\n",
       "      <th>o1</th>\n",
       "      <th>o2</th>\n",
       "    </tr>\n",
       "  </thead>\n",
       "  <tbody>\n",
       "    <tr>\n",
       "      <th>p1</th>\n",
       "      <td>0.0</td>\n",
       "      <td>1.0</td>\n",
       "    </tr>\n",
       "    <tr>\n",
       "      <th>p2</th>\n",
       "      <td>0.5</td>\n",
       "      <td>0.5</td>\n",
       "    </tr>\n",
       "  </tbody>\n",
       "</table>\n",
       "</div>"
      ],
      "text/plain": [
       "Literal listener:  o1  o2\n",
       "p1                0.0 1.0\n",
       "p2                0.5 0.5"
      ]
     },
     "metadata": {},
     "output_type": "display_data"
    },
    {
     "data": {
      "text/html": [
       "<div>\n",
       "<style scoped>\n",
       "    .dataframe tbody tr th:only-of-type {\n",
       "        vertical-align: middle;\n",
       "    }\n",
       "\n",
       "    .dataframe tbody tr th {\n",
       "        vertical-align: top;\n",
       "    }\n",
       "\n",
       "    .dataframe thead th {\n",
       "        text-align: right;\n",
       "    }\n",
       "</style>\n",
       "<table border=\"1\" class=\"dataframe\">\n",
       "  <thead>\n",
       "    <tr style=\"text-align: right;\">\n",
       "      <th>Pragmatic speaker:</th>\n",
       "      <th>p1</th>\n",
       "      <th>p2</th>\n",
       "    </tr>\n",
       "  </thead>\n",
       "  <tbody>\n",
       "    <tr>\n",
       "      <th>o1</th>\n",
       "      <td>0.0</td>\n",
       "      <td>1.0</td>\n",
       "    </tr>\n",
       "    <tr>\n",
       "      <th>o2</th>\n",
       "      <td>0.7</td>\n",
       "      <td>0.3</td>\n",
       "    </tr>\n",
       "  </tbody>\n",
       "</table>\n",
       "</div>"
      ],
      "text/plain": [
       "Pragmatic speaker:  p1  p2\n",
       "o1                 0.0 1.0\n",
       "o2                 0.7 0.3"
      ]
     },
     "metadata": {},
     "output_type": "display_data"
    },
    {
     "data": {
      "text/html": [
       "<div>\n",
       "<style scoped>\n",
       "    .dataframe tbody tr th:only-of-type {\n",
       "        vertical-align: middle;\n",
       "    }\n",
       "\n",
       "    .dataframe tbody tr th {\n",
       "        vertical-align: top;\n",
       "    }\n",
       "\n",
       "    .dataframe thead th {\n",
       "        text-align: right;\n",
       "    }\n",
       "</style>\n",
       "<table border=\"1\" class=\"dataframe\">\n",
       "  <thead>\n",
       "    <tr style=\"text-align: right;\">\n",
       "      <th>Pragmatic listener:</th>\n",
       "      <th>o1</th>\n",
       "      <th>o2</th>\n",
       "    </tr>\n",
       "  </thead>\n",
       "  <tbody>\n",
       "    <tr>\n",
       "      <th>p1</th>\n",
       "      <td>0.0</td>\n",
       "      <td>1.0</td>\n",
       "    </tr>\n",
       "    <tr>\n",
       "      <th>p2</th>\n",
       "      <td>0.8</td>\n",
       "      <td>0.2</td>\n",
       "    </tr>\n",
       "  </tbody>\n",
       "</table>\n",
       "</div>"
      ],
      "text/plain": [
       "Pragmatic listener:  o1  o2\n",
       "p1                  0.0 1.0\n",
       "p2                  0.8 0.2"
      ]
     },
     "metadata": {},
     "output_type": "display_data"
    }
   ],
   "source": [
    "import pandas as pd\n",
    "\n",
    "L0 = literal_listener(T)\n",
    "S1 = pragmatic_speaker(T)\n",
    "L1 = pragmatic_listener(T)\n",
    "\n",
    "# Define the references\n",
    "object_labels = ['o1', 'o2']\n",
    "property_labels = ['p1', 'p2']\n",
    "\n",
    "pd.options.display.float_format = '{:.1f}'.format\n",
    "\n",
    "\n",
    "# Convert tensors to DataFrames with appropriate row and column labels\n",
    "df_T = pd.DataFrame(T.numpy(), index=object_labels, columns=property_labels)\n",
    "df_L0 = pd.DataFrame(L0.numpy(), index=property_labels, columns=object_labels)\n",
    "df_S1 = pd.DataFrame(S1.numpy(), index=object_labels, columns=property_labels)\n",
    "df_L1 = pd.DataFrame(L1.numpy(), index=property_labels, columns=object_labels)\n",
    "\n",
    "# Display the DataFrames\n",
    "display(df_T.rename_axis('T:', axis=1))\n",
    "display(df_L0.rename_axis('Literal listener:', axis=1))\n",
    "display(df_S1.rename_axis('Pragmatic speaker:', axis=1))\n",
    "display(df_L1.rename_axis('Pragmatic listener:', axis=1))"
   ]
  },
  {
   "cell_type": "markdown",
   "metadata": {},
   "source": [
    "Now we can see what the model would do for a given object.\n",
    "If the speaker wants to describe the object 1 ``o1``"
   ]
  },
  {
   "cell_type": "code",
   "execution_count": 160,
   "metadata": {},
   "outputs": [
    {
     "name": "stdout",
     "output_type": "stream",
     "text": [
      "\n",
      "The pragmatic speaker would choose property p2 to describe the object o1\n",
      "Guess from the literal listener: o1 with a probability of 0.50\n",
      "Guess from the pragmatic listener: o1 with a probability of 0.75\n"
     ]
    }
   ],
   "source": [
    "chosen_property = torch.argmax(S1[0])\n",
    "print(f\"\\nThe pragmatic speaker would choose property {property_labels[chosen_property]} to describe the object o1\")\n",
    "\n",
    "literal_guess = torch.argmax(L0[chosen_property])\n",
    "pragmatic_guess = torch.argmax(L1[chosen_property])\n",
    "\n",
    "print(f\"Guess from the literal listener: {object_labels[literal_guess]} with a probability of {L0[chosen_property, literal_guess]:.2f}\")\n",
    "print(f\"Guess from the pragmatic listener: {object_labels[pragmatic_guess]} with a probability of {L1[chosen_property, pragmatic_guess]:.2f}\")"
   ]
  },
  {
   "cell_type": "markdown",
   "metadata": {},
   "source": [
    "Both listener have chosen the correct object but the pragmatic listener is more confident on its choice."
   ]
  },
  {
   "cell_type": "markdown",
   "metadata": {},
   "source": [
    "# RSA model with cost"
   ]
  },
  {
   "cell_type": "markdown",
   "metadata": {},
   "source": [
    "We can add a cost function to the model. The cost function is a matrix $C$ of size $O\\times A$ where $C[o,a]$ is the cost of the attribute $a$ for the object $o$. Intuitively, we can take as the cost the number of bits needed to transmit the attribute."
   ]
  },
  {
   "cell_type": "code",
   "execution_count": 161,
   "metadata": {},
   "outputs": [],
   "source": [
    "C = torch.ones(shape) # Here every attribute uses the same amount of bits"
   ]
  },
  {
   "cell_type": "markdown",
   "metadata": {},
   "source": [
    "Now the speaker will take into account the cost of the attributes to choose the object to describe."
   ]
  },
  {
   "cell_type": "code",
   "execution_count": 162,
   "metadata": {},
   "outputs": [],
   "source": [
    "def pragmatic_speaker(T):\n",
    "    S = torch.zeros(shape)\n",
    "    L = literal_listener(T).t()\n",
    "    sum = torch.sum(L)\n",
    "    S = torch.exp(alpha*safelog(L) - C)/sum\n",
    "    row_sums = torch.sum(S, dim=1, keepdim=True)\n",
    "    S_normalized = S / row_sums\n",
    "    return S_normalized"
   ]
  },
  {
   "cell_type": "markdown",
   "metadata": {},
   "source": [
    "# RSA model with prior"
   ]
  },
  {
   "cell_type": "markdown",
   "metadata": {},
   "source": [
    "We can also add prior knowledge of the probability distribution of the objects. For instance we may know that we are more likely to describe object 1 than object 2. We can add this information in the model by adding a prior matrix $P$ of size $O$ where $P[o]$ is the prior probability of the object $o$. "
   ]
  },
  {
   "cell_type": "markdown",
   "metadata": {},
   "source": [
    "This probability will be added in the litteral listener. For now we initialized the litteral listener with a uniform distribution as follows :\n",
    "$$\n",
    "L_\\text{lit}(o|a) = \\frac{T(o,a)}{\\sum_{o'} T(o',a)}\n",
    "$$\n",
    "Now we can add the prior information in the litteral listener as follows :\n",
    "$$\n",
    "L_\\text{lit}(o|a) = \\frac{T(o,a)P[o]}{\\sum_{o'} T(o',a)P[o']}\n",
    "$$"
   ]
  },
  {
   "cell_type": "code",
   "execution_count": 163,
   "metadata": {},
   "outputs": [],
   "source": [
    "def literal_listener(T,P=torch.ones(shape[0])):\n",
    "    L = torch.zeros(shape)\n",
    "    sum = torch.sum(T)\n",
    "    # We transpose the truth matrice : the listener is P(o|a) and not P(a|o)\n",
    "    L = ((T*P).t())/sum\n",
    "    # Sum along the rows to get the sum for each row\n",
    "    row_sums = torch.sum(L, dim=1, keepdim=True)\n",
    "    # Normalize each row by dividing by its sum\n",
    "    L_normalized = L / row_sums\n",
    "    return L_normalized "
   ]
  },
  {
   "cell_type": "markdown",
   "metadata": {},
   "source": [
    "We can test this new function with the example below using the prior matrix $P = [0.25, 0.75]$."
   ]
  },
  {
   "cell_type": "code",
   "execution_count": 164,
   "metadata": {},
   "outputs": [
    {
     "data": {
      "text/html": [
       "<div>\n",
       "<style scoped>\n",
       "    .dataframe tbody tr th:only-of-type {\n",
       "        vertical-align: middle;\n",
       "    }\n",
       "\n",
       "    .dataframe tbody tr th {\n",
       "        vertical-align: top;\n",
       "    }\n",
       "\n",
       "    .dataframe thead th {\n",
       "        text-align: right;\n",
       "    }\n",
       "</style>\n",
       "<table border=\"1\" class=\"dataframe\">\n",
       "  <thead>\n",
       "    <tr style=\"text-align: right;\">\n",
       "      <th>Literal listener:</th>\n",
       "      <th>o1</th>\n",
       "      <th>o2</th>\n",
       "    </tr>\n",
       "  </thead>\n",
       "  <tbody>\n",
       "    <tr>\n",
       "      <th>p1</th>\n",
       "      <td>0.0</td>\n",
       "      <td>1.0</td>\n",
       "    </tr>\n",
       "    <tr>\n",
       "      <th>p2</th>\n",
       "      <td>0.5</td>\n",
       "      <td>0.5</td>\n",
       "    </tr>\n",
       "  </tbody>\n",
       "</table>\n",
       "</div>"
      ],
      "text/plain": [
       "Literal listener:  o1  o2\n",
       "p1                0.0 1.0\n",
       "p2                0.5 0.5"
      ]
     },
     "metadata": {},
     "output_type": "display_data"
    },
    {
     "data": {
      "text/html": [
       "<div>\n",
       "<style scoped>\n",
       "    .dataframe tbody tr th:only-of-type {\n",
       "        vertical-align: middle;\n",
       "    }\n",
       "\n",
       "    .dataframe tbody tr th {\n",
       "        vertical-align: top;\n",
       "    }\n",
       "\n",
       "    .dataframe thead th {\n",
       "        text-align: right;\n",
       "    }\n",
       "</style>\n",
       "<table border=\"1\" class=\"dataframe\">\n",
       "  <thead>\n",
       "    <tr style=\"text-align: right;\">\n",
       "      <th>Literal listener with prior knowledge:</th>\n",
       "      <th>o1</th>\n",
       "      <th>o2</th>\n",
       "    </tr>\n",
       "  </thead>\n",
       "  <tbody>\n",
       "    <tr>\n",
       "      <th>p1</th>\n",
       "      <td>0.0</td>\n",
       "      <td>1.0</td>\n",
       "    </tr>\n",
       "    <tr>\n",
       "      <th>p2</th>\n",
       "      <td>0.2</td>\n",
       "      <td>0.8</td>\n",
       "    </tr>\n",
       "  </tbody>\n",
       "</table>\n",
       "</div>"
      ],
      "text/plain": [
       "Literal listener with prior knowledge:  o1  o2\n",
       "p1                                     0.0 1.0\n",
       "p2                                     0.2 0.8"
      ]
     },
     "metadata": {},
     "output_type": "display_data"
    }
   ],
   "source": [
    "P = torch.Tensor([0.25,0.75])\n",
    "P = P.view(-1, 1)\n",
    "L0_prior = literal_listener(T,P)\n",
    "\n",
    "df_L0 = pd.DataFrame(L0.numpy(), index=property_labels, columns=object_labels)\n",
    "display(df_L0.rename_axis('Literal listener:', axis=1))\n",
    "\n",
    "df_L0_prior = pd.DataFrame(L0_prior.numpy(), index=property_labels, columns=object_labels)\n",
    "display(df_L0_prior.rename_axis('Literal listener with prior knowledge:', axis=1))"
   ]
  },
  {
   "cell_type": "markdown",
   "metadata": {},
   "source": [
    "# RSA with recursivity"
   ]
  },
  {
   "cell_type": "markdown",
   "metadata": {},
   "source": [
    "We saw that we used the litteral listener to calculate the pragmatic speaker. Then the pragmatic speaker to calculate the pragmatic listener. We can reiterate this process to get a better model : a model which is more pragmatic.\n",
    "\n",
    "Let's build iterative functions ``pragmatic_listener`` and ``pragmatic_speaker`` which take as input a parameter ``k`` indicating the number of iterations."
   ]
  },
  {
   "cell_type": "markdown",
   "metadata": {},
   "source": [
    "Those functions will be methods of the class ``RSA``"
   ]
  },
  {
   "cell_type": "code",
   "execution_count": 165,
   "metadata": {},
   "outputs": [],
   "source": [
    "class RSA:\n",
    "    def __init__(self, T, alpha = 1, C=torch.ones(T.shape), P=torch.ones(shape[0]), k=1):\n",
    "        self.T = T\n",
    "        self.P = P\n",
    "        self.C = C\n",
    "        self.shape = T.shape\n",
    "        self.alpha = alpha\n",
    "        self.k = k\n",
    "        self.L0 = torch.zeros(self.shape)\n",
    "        self.SK = torch.zeros(self.shape)\n",
    "        self.LK = torch.zeros(self.shape)\n",
    "    \n",
    "    def compute_matrices(self):\n",
    "\n",
    "        def literal_listener():\n",
    "            P = self.P.view(-1, 1)\n",
    "            L = torch.zeros(self.shape)\n",
    "            sum = torch.sum(self.T)\n",
    "            L = ((self.T*P).t())/sum\n",
    "            row_sums = torch.sum(L, dim=1, keepdim=True)\n",
    "            L_normalized = L / row_sums\n",
    "            return L_normalized \n",
    "\n",
    "        def pragmatic_speaker(LK_1):\n",
    "            S = torch.zeros(self.shape)\n",
    "            L = LK_1.t() # We use the listener of the previous level\n",
    "            sum = torch.sum(L)\n",
    "            S = torch.exp(self.alpha*safelog(L) - self.C)/sum\n",
    "            row_sums = torch.sum(S, dim=1, keepdim=True)\n",
    "            S_normalized = S / row_sums\n",
    "            return S_normalized\n",
    "\n",
    "        def pragmatic_listener(SK):\n",
    "            L = torch.zeros(self.shape)\n",
    "            L = SK.t()\n",
    "            row_sums = torch.sum(L, dim=1, keepdim=True)\n",
    "            L_normalized = L / row_sums\n",
    "            return L_normalized\n",
    "    \n",
    "        self.L0 = literal_listener()\n",
    "        self.LK = self.L0\n",
    "        for i in range(self.k):\n",
    "            self.SK = pragmatic_speaker(self.LK)\n",
    "            self.LK = pragmatic_listener(self.SK)\n",
    "\n",
    "    def display_matrices(self):\n",
    "        # Define the references\n",
    "        object_labels = [\"o\"+str(i+1) for i in range(self.shape[0])]\n",
    "        property_labels = [\"p\"+str(i+1) for i in range(self.shape[1])]\n",
    "\n",
    "        # Convert tensors to DataFrames with appropriate row and column labels\n",
    "        df_T = pd.DataFrame(self.T.numpy(), index=object_labels, columns=property_labels)\n",
    "        df_L0 = pd.DataFrame(self.L0.numpy(), index=property_labels, columns=object_labels)\n",
    "        df_SK = pd.DataFrame(self.SK.numpy(), index=object_labels, columns=property_labels)\n",
    "        df_LK = pd.DataFrame(self.LK.numpy(), index=property_labels, columns=object_labels)\n",
    "\n",
    "        # Set float format\n",
    "        pd.options.display.float_format = '{:.2f}'.format\n",
    "\n",
    "        # Display the DataFrames inline with formatted floats\n",
    "        print(\"T:\")\n",
    "        display(df_T.rename_axis('T:', axis=1))\n",
    "        print(\"Literal listener:\")\n",
    "        display(df_L0.rename_axis('Literal listener:', axis=1))\n",
    "        print(\"Pragmatic speaker:\")\n",
    "        display(df_SK.rename_axis('Pragmatic speaker:', axis=1))\n",
    "        print(\"Pragmatic listener:\")\n",
    "        display(df_LK.rename_axis('Pragmatic listener:', axis=1))\n",
    "\n",
    "    def describe_object(self, object_index):\n",
    "        chosen_property = torch.argmax(self.S1[object_index])\n",
    "        literal_guess = torch.argmax(self.L0[chosen_property])\n",
    "        pragmatic_guess = torch.argmax(self.L1[chosen_property])\n",
    "\n",
    "        print(f\"\\nThe pragmatic speaker would choose property p{chosen_property + 1} to describe the object o{object_index + 1}\")\n",
    "        print(f\"Guess from the literal listener: o{literal_guess + 1} with a probability of {self.L0[chosen_property, literal_guess]:.4f}\")\n",
    "        print(f\"Guess from the pragmatic listener: o{pragmatic_guess + 1} with a probability of {self.L1[chosen_property, pragmatic_guess]:.4f}\")"
   ]
  },
  {
   "cell_type": "markdown",
   "metadata": {},
   "source": [
    "We can test this new model with the example below using the prior matrix $P = [0.25, 0.75]$ and the cost matrix $C = \\begin{bmatrix} 1 & 1  \\\\ 1 & 1  \\end{bmatrix}$."
   ]
  },
  {
   "cell_type": "code",
   "execution_count": 166,
   "metadata": {},
   "outputs": [],
   "source": [
    "T = torch.Tensor([[0,1],[1,1]])\n",
    "shape = T.shape\n",
    "P = torch.Tensor([0.25,0.75])\n",
    "k=1\n",
    "C = torch.ones(shape)"
   ]
  },
  {
   "cell_type": "code",
   "execution_count": 167,
   "metadata": {},
   "outputs": [],
   "source": [
    "rsa = RSA(T, alpha=1, C=C, P=P, k=3)"
   ]
  },
  {
   "cell_type": "code",
   "execution_count": 168,
   "metadata": {},
   "outputs": [
    {
     "name": "stdout",
     "output_type": "stream",
     "text": [
      "T:\n"
     ]
    },
    {
     "data": {
      "text/html": [
       "<div>\n",
       "<style scoped>\n",
       "    .dataframe tbody tr th:only-of-type {\n",
       "        vertical-align: middle;\n",
       "    }\n",
       "\n",
       "    .dataframe tbody tr th {\n",
       "        vertical-align: top;\n",
       "    }\n",
       "\n",
       "    .dataframe thead th {\n",
       "        text-align: right;\n",
       "    }\n",
       "</style>\n",
       "<table border=\"1\" class=\"dataframe\">\n",
       "  <thead>\n",
       "    <tr style=\"text-align: right;\">\n",
       "      <th>T:</th>\n",
       "      <th>p1</th>\n",
       "      <th>p2</th>\n",
       "    </tr>\n",
       "  </thead>\n",
       "  <tbody>\n",
       "    <tr>\n",
       "      <th>o1</th>\n",
       "      <td>0.00</td>\n",
       "      <td>1.00</td>\n",
       "    </tr>\n",
       "    <tr>\n",
       "      <th>o2</th>\n",
       "      <td>1.00</td>\n",
       "      <td>1.00</td>\n",
       "    </tr>\n",
       "  </tbody>\n",
       "</table>\n",
       "</div>"
      ],
      "text/plain": [
       "T:   p1   p2\n",
       "o1 0.00 1.00\n",
       "o2 1.00 1.00"
      ]
     },
     "metadata": {},
     "output_type": "display_data"
    },
    {
     "name": "stdout",
     "output_type": "stream",
     "text": [
      "Literal listener:\n"
     ]
    },
    {
     "data": {
      "text/html": [
       "<div>\n",
       "<style scoped>\n",
       "    .dataframe tbody tr th:only-of-type {\n",
       "        vertical-align: middle;\n",
       "    }\n",
       "\n",
       "    .dataframe tbody tr th {\n",
       "        vertical-align: top;\n",
       "    }\n",
       "\n",
       "    .dataframe thead th {\n",
       "        text-align: right;\n",
       "    }\n",
       "</style>\n",
       "<table border=\"1\" class=\"dataframe\">\n",
       "  <thead>\n",
       "    <tr style=\"text-align: right;\">\n",
       "      <th>Literal listener:</th>\n",
       "      <th>o1</th>\n",
       "      <th>o2</th>\n",
       "    </tr>\n",
       "  </thead>\n",
       "  <tbody>\n",
       "    <tr>\n",
       "      <th>p1</th>\n",
       "      <td>0.00</td>\n",
       "      <td>1.00</td>\n",
       "    </tr>\n",
       "    <tr>\n",
       "      <th>p2</th>\n",
       "      <td>0.25</td>\n",
       "      <td>0.75</td>\n",
       "    </tr>\n",
       "  </tbody>\n",
       "</table>\n",
       "</div>"
      ],
      "text/plain": [
       "Literal listener:   o1   o2\n",
       "p1                0.00 1.00\n",
       "p2                0.25 0.75"
      ]
     },
     "metadata": {},
     "output_type": "display_data"
    },
    {
     "name": "stdout",
     "output_type": "stream",
     "text": [
      "Pragmatic speaker:\n"
     ]
    },
    {
     "data": {
      "text/html": [
       "<div>\n",
       "<style scoped>\n",
       "    .dataframe tbody tr th:only-of-type {\n",
       "        vertical-align: middle;\n",
       "    }\n",
       "\n",
       "    .dataframe tbody tr th {\n",
       "        vertical-align: top;\n",
       "    }\n",
       "\n",
       "    .dataframe thead th {\n",
       "        text-align: right;\n",
       "    }\n",
       "</style>\n",
       "<table border=\"1\" class=\"dataframe\">\n",
       "  <thead>\n",
       "    <tr style=\"text-align: right;\">\n",
       "      <th>Pragmatic speaker:</th>\n",
       "      <th>p1</th>\n",
       "      <th>p2</th>\n",
       "    </tr>\n",
       "  </thead>\n",
       "  <tbody>\n",
       "    <tr>\n",
       "      <th>o1</th>\n",
       "      <td>0.00</td>\n",
       "      <td>1.00</td>\n",
       "    </tr>\n",
       "    <tr>\n",
       "      <th>o2</th>\n",
       "      <td>0.84</td>\n",
       "      <td>0.16</td>\n",
       "    </tr>\n",
       "  </tbody>\n",
       "</table>\n",
       "</div>"
      ],
      "text/plain": [
       "Pragmatic speaker:   p1   p2\n",
       "o1                 0.00 1.00\n",
       "o2                 0.84 0.16"
      ]
     },
     "metadata": {},
     "output_type": "display_data"
    },
    {
     "name": "stdout",
     "output_type": "stream",
     "text": [
      "Pragmatic listener:\n"
     ]
    },
    {
     "data": {
      "text/html": [
       "<div>\n",
       "<style scoped>\n",
       "    .dataframe tbody tr th:only-of-type {\n",
       "        vertical-align: middle;\n",
       "    }\n",
       "\n",
       "    .dataframe tbody tr th {\n",
       "        vertical-align: top;\n",
       "    }\n",
       "\n",
       "    .dataframe thead th {\n",
       "        text-align: right;\n",
       "    }\n",
       "</style>\n",
       "<table border=\"1\" class=\"dataframe\">\n",
       "  <thead>\n",
       "    <tr style=\"text-align: right;\">\n",
       "      <th>Pragmatic listener:</th>\n",
       "      <th>o1</th>\n",
       "      <th>o2</th>\n",
       "    </tr>\n",
       "  </thead>\n",
       "  <tbody>\n",
       "    <tr>\n",
       "      <th>p1</th>\n",
       "      <td>0.00</td>\n",
       "      <td>1.00</td>\n",
       "    </tr>\n",
       "    <tr>\n",
       "      <th>p2</th>\n",
       "      <td>0.86</td>\n",
       "      <td>0.14</td>\n",
       "    </tr>\n",
       "  </tbody>\n",
       "</table>\n",
       "</div>"
      ],
      "text/plain": [
       "Pragmatic listener:   o1   o2\n",
       "p1                  0.00 1.00\n",
       "p2                  0.86 0.14"
      ]
     },
     "metadata": {},
     "output_type": "display_data"
    }
   ],
   "source": [
    "rsa.compute_matrices()\n",
    "rsa.display_matrices()"
   ]
  },
  {
   "cell_type": "markdown",
   "metadata": {},
   "source": [
    "Ainsi on peut voir que le modèle est plus confiant dans ses choix lorsque ``k`` augmente. Nous pouvons représenter l'évolution de l'écart-type des probabilités pour chaque objet en fonction de ``k``."
   ]
  },
  {
   "cell_type": "code",
   "execution_count": 169,
   "metadata": {},
   "outputs": [],
   "source": [
    "import matplotlib.pyplot as plt\n",
    "\n",
    "def plot_std_evolution(T, max_k=10):\n",
    "    std_devs = []\n",
    "\n",
    "    for k in range(1, max_k + 1):\n",
    "        rsa = RSA(T, k=k)\n",
    "        rsa.compute_matrices()\n",
    "        std_dev = torch.std(rsa.LK, dim=1).mean().item()\n",
    "        std_devs.append(std_dev)\n",
    "\n",
    "    plt.plot(range(1, max_k + 1), std_devs, marker='o')\n",
    "    plt.xlabel('k')\n",
    "    plt.ylabel('Mean Standard Deviation of Probabilities')\n",
    "    plt.title('Evolution of Standard Deviation of Probabilities with Increasing k')\n",
    "    plt.grid(True)\n",
    "    plt.show()"
   ]
  },
  {
   "cell_type": "code",
   "execution_count": 170,
   "metadata": {},
   "outputs": [
    {
     "data": {
      "image/png": "[encoded data removed]",
      "text/plain": [
       "<Figure size 640x480 with 1 Axes>"
      ]
     },
     "metadata": {},
     "output_type": "display_data"
    }
   ],
   "source": [
    "T = torch.tensor([[0., 1.], [1., 1.]])\n",
    "plot_std_evolution(T, max_k=10)"
   ]
  }
 ],
 "metadata": {
  "kernelspec": {
   "display_name": "base",
   "language": "python",
   "name": "python3"
  },
  "language_info": {
   "codemirror_mode": {
    "name": "ipython",
    "version": 3
   },
   "file_extension": ".py",
   "mimetype": "text/x-python",
   "name": "python",
   "nbconvert_exporter": "python",
   "pygments_lexer": "ipython3",
   "version": "3.11.7"
  }
 },
 "nbformat": 4,
 "nbformat_minor": 2
}
